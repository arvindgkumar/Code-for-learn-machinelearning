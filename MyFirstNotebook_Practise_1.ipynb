{
  "nbformat": 4,
  "nbformat_minor": 0,
  "metadata": {
    "colab": {
      "name": "MyFirstNotebook_Practise_1.ipynb",
      "provenance": [],
      "collapsed_sections": [],
      "toc_visible": true,
      "authorship_tag": "ABX9TyNy04kX0nhf5vMmDRA9023+",
      "include_colab_link": true
    },
    "kernelspec": {
      "name": "python3",
      "display_name": "Python 3"
    }
  },
  "cells": [
    {
      "cell_type": "markdown",
      "metadata": {
        "id": "view-in-github",
        "colab_type": "text"
      },
      "source": [
        "<a href=\"https://colab.research.google.com/github/arvindgkumar/Code-for-learn-machinelearning/blob/master/MyFirstNotebook_Practise_1.ipynb\" target=\"_parent\"><img src=\"https://colab.research.google.com/assets/colab-badge.svg\" alt=\"Open In Colab\"/></a>"
      ]
    },
    {
      "cell_type": "code",
      "metadata": {
        "id": "4iq-s8jV6dXW"
      },
      "source": [
        ""
      ],
      "execution_count": null,
      "outputs": []
    },
    {
      "cell_type": "markdown",
      "metadata": {
        "id": "QIHb9QqH19FK"
      },
      "source": [
        "#Heading1"
      ]
    },
    {
      "cell_type": "markdown",
      "metadata": {
        "id": "SpkO9hPW2B3M"
      },
      "source": [
        "this is for heading1"
      ]
    },
    {
      "cell_type": "code",
      "metadata": {
        "id": "JEL5GJTT2Ryt"
      },
      "source": [
        "a = 1"
      ],
      "execution_count": 1,
      "outputs": []
    },
    {
      "cell_type": "code",
      "metadata": {
        "id": "bc56RO192n14"
      },
      "source": [
        ""
      ],
      "execution_count": null,
      "outputs": []
    },
    {
      "cell_type": "markdown",
      "metadata": {
        "id": "BczWH8KZ_4TK"
      },
      "source": [
        "# Heading 2"
      ]
    },
    {
      "cell_type": "markdown",
      "metadata": {
        "id": "LeWhZ5gt_5tD"
      },
      "source": [
        "##Heading 3"
      ]
    },
    {
      "cell_type": "code",
      "metadata": {
        "id": "JYl3EhNECxYa"
      },
      "source": [
        ""
      ],
      "execution_count": null,
      "outputs": []
    },
    {
      "cell_type": "markdown",
      "metadata": {
        "id": "WotM4NLCCyJV"
      },
      "source": [
        "###Heaing3"
      ]
    },
    {
      "cell_type": "markdown",
      "metadata": {
        "id": "LzRbs4tyC2j8"
      },
      "source": [
        "####Heading4"
      ]
    },
    {
      "cell_type": "code",
      "metadata": {
        "id": "Gpr9qxs2C4MF"
      },
      "source": [
        ""
      ],
      "execution_count": null,
      "outputs": []
    },
    {
      "cell_type": "markdown",
      "metadata": {
        "id": "cy2iUmzgC67O"
      },
      "source": [
        "######Headin5"
      ]
    },
    {
      "cell_type": "code",
      "metadata": {
        "id": "Y_w-zJGUC8Rx"
      },
      "source": [
        "import pandas as pd"
      ],
      "execution_count": 3,
      "outputs": []
    },
    {
      "cell_type": "markdown",
      "metadata": {
        "id": "pfVFLbFkEGWl"
      },
      "source": [
        "import **lib** here in the *notebook*"
      ]
    },
    {
      "cell_type": "code",
      "metadata": {
        "colab": {
          "base_uri": "https://localhost:8080/"
        },
        "id": "RskavZLvEOMh",
        "outputId": "97cdc567-1d51-4e57-e1a8-edddb4de22c1"
      },
      "source": [
        "!pip install py3dmol"
      ],
      "execution_count": 5,
      "outputs": [
        {
          "output_type": "stream",
          "text": [
            "Collecting py3dmol\n",
            "  Downloading https://files.pythonhosted.org/packages/dd/19/dd527b0db65e730e20c3d5e5a7efbb7fbbf8d98f9debfb47962c13f479d6/py3Dmol-0.9.1-py2.py3-none-any.whl\n",
            "Installing collected packages: py3dmol\n",
            "Successfully installed py3dmol-0.9.1\n"
          ],
          "name": "stdout"
        }
      ]
    },
    {
      "cell_type": "code",
      "metadata": {
        "colab": {
          "base_uri": "https://localhost:8080/",
          "height": 514
        },
        "id": "d5D1uGQ0ETGl",
        "outputId": "6b9582e5-2ef1-47a9-c0e4-d8684b76f04d"
      },
      "source": [
        "import py3Dmol\r\n",
        "\r\n",
        "p = py3Dmol.view(query='pdb:1ubq') \r\n",
        "p.setStyle({'cartoon':{'color':'spectrum'}})"
      ],
      "execution_count": 8,
      "outputs": [
        {
          "output_type": "display_data",
          "data": {
            "application/3dmoljs_load.v0": "<div id=\"3dmolviewer_16130467414488692\"  style=\"position: relative; width: 640px; height: 480px\">\n        <p id=\"3dmolwarning_16130467414488692\" style=\"background-color:#ffcccc;color:black\">You appear to be running in JupyterLab (or JavaScript failed to load for some other reason).  You need to install the 3dmol extension: <br>\n        <tt>jupyter labextension install jupyterlab_3dmol</tt></p>\n        </div>\n<script>\n\nvar loadScriptAsync = function(uri){\n  return new Promise((resolve, reject) => {\n    var tag = document.createElement('script');\n    tag.src = uri;\n    tag.async = true;\n    tag.onload = () => {\n      resolve();\n    };\n  var firstScriptTag = document.getElementsByTagName('script')[0];\n  firstScriptTag.parentNode.insertBefore(tag, firstScriptTag);\n});\n};\n\nif(typeof $3Dmolpromise === 'undefined') {\n$3Dmolpromise = null;\n  $3Dmolpromise = loadScriptAsync('https://3dmol.org/build/3Dmol.js');\n}\n\nvar viewer_16130467414488692 = null;\nvar warn = document.getElementById(\"3dmolwarning_16130467414488692\");\nif(warn) {\n    warn.parentNode.removeChild(warn);\n}\n$3Dmolpromise.then(function() {\nviewer_16130467414488692 = $3Dmol.createViewer($(\"#3dmolviewer_16130467414488692\"),{backgroundColor:\"white\"});\n$3Dmol.download(\"pdb:1ubq\", viewer_16130467414488692, {}, function() {\nviewer_16130467414488692.zoomTo();\n\tviewer_16130467414488692.setStyle({\"cartoon\": {\"color\": \"spectrum\"}});\nviewer_16130467414488692.render();\n})\n});\n</script>",
            "text/html": [
              "<div id=\"3dmolviewer_16130467414488692\"  style=\"position: relative; width: 640px; height: 480px\">\n",
              "        <p id=\"3dmolwarning_16130467414488692\" style=\"background-color:#ffcccc;color:black\">You appear to be running in JupyterLab (or JavaScript failed to load for some other reason).  You need to install the 3dmol extension: <br>\n",
              "        <tt>jupyter labextension install jupyterlab_3dmol</tt></p>\n",
              "        </div>\n",
              "<script>\n",
              "\n",
              "var loadScriptAsync = function(uri){\n",
              "  return new Promise((resolve, reject) => {\n",
              "    var tag = document.createElement('script');\n",
              "    tag.src = uri;\n",
              "    tag.async = true;\n",
              "    tag.onload = () => {\n",
              "      resolve();\n",
              "    };\n",
              "  var firstScriptTag = document.getElementsByTagName('script')[0];\n",
              "  firstScriptTag.parentNode.insertBefore(tag, firstScriptTag);\n",
              "});\n",
              "};\n",
              "\n",
              "if(typeof $3Dmolpromise === 'undefined') {\n",
              "$3Dmolpromise = null;\n",
              "  $3Dmolpromise = loadScriptAsync('https://3dmol.org/build/3Dmol.js');\n",
              "}\n",
              "\n",
              "var viewer_16130467414488692 = null;\n",
              "var warn = document.getElementById(\"3dmolwarning_16130467414488692\");\n",
              "if(warn) {\n",
              "    warn.parentNode.removeChild(warn);\n",
              "}\n",
              "$3Dmolpromise.then(function() {\n",
              "viewer_16130467414488692 = $3Dmol.createViewer($(\"#3dmolviewer_16130467414488692\"),{backgroundColor:\"white\"});\n",
              "$3Dmol.download(\"pdb:1ubq\", viewer_16130467414488692, {}, function() {\n",
              "viewer_16130467414488692.zoomTo();\n",
              "\tviewer_16130467414488692.setStyle({\"cartoon\": {\"color\": \"spectrum\"}});\n",
              "viewer_16130467414488692.render();\n",
              "})\n",
              "});\n",
              "</script>"
            ]
          },
          "metadata": {
            "tags": []
          }
        },
        {
          "output_type": "execute_result",
          "data": {
            "text/plain": [
              "<py3Dmol.view at 0x7fdd830894e0>"
            ]
          },
          "metadata": {
            "tags": []
          },
          "execution_count": 8
        }
      ]
    },
    {
      "cell_type": "code",
      "metadata": {
        "id": "lCZHITuJEsT-"
      },
      "source": [
        ""
      ],
      "execution_count": null,
      "outputs": []
    }
  ]
}